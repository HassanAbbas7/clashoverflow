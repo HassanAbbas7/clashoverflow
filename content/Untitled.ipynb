{
 "cells": [
  {
   "cell_type": "code",
   "execution_count": 2,
   "id": "31d11bd8",
   "metadata": {},
   "outputs": [],
   "source": [
    "from DeepImageSearch import Load_Data, Search_Setup"
   ]
  },
  {
   "cell_type": "code",
   "execution_count": 21,
   "id": "3526faa0",
   "metadata": {},
   "outputs": [],
   "source": [
    "image_list = Load_Data().from_folder(['BW/'])"
   ]
  },
  {
   "cell_type": "code",
   "execution_count": null,
   "id": "08f7caf6",
   "metadata": {},
   "outputs": [],
   "source": []
  },
  {
   "cell_type": "code",
   "execution_count": 23,
   "id": "641db9a6",
   "metadata": {},
   "outputs": [
    {
     "name": "stdout",
     "output_type": "stream",
     "text": [
      "\u001b[91m Please Wait Model Is Loading or Downloading From Server!\n",
      "\u001b[92m Model Loaded Successfully: vgg19\n"
     ]
    }
   ],
   "source": [
    " st = Search_Setup(image_list=image_list, model_name='vgg19', pretrained=True, image_count=100)"
   ]
  },
  {
   "cell_type": "code",
   "execution_count": 24,
   "id": "2f5c9300",
   "metadata": {},
   "outputs": [
    {
     "name": "stdout",
     "output_type": "stream",
     "text": [
      "\u001b[91m Metadata and Features are already present, Do you want Extract Again? Enter yes or no\n",
      "yes\n"
     ]
    },
    {
     "name": "stderr",
     "output_type": "stream",
     "text": [
      "100%|██████████████████████████████████████████████████████████████████████████████████| 30/30 [00:11<00:00,  2.60it/s]"
     ]
    },
    {
     "name": "stdout",
     "output_type": "stream",
     "text": [
      "\u001b[94m Image Meta Information Saved: [metadata-files/vgg19/image_data_features.pkl]\n",
      "\u001b[94m Saved The Indexed File:[metadata-files/vgg19/image_features_vectors.idx]\n"
     ]
    },
    {
     "name": "stderr",
     "output_type": "stream",
     "text": [
      "\n"
     ]
    }
   ],
   "source": [
    "st.run_index()"
   ]
  },
  {
   "cell_type": "code",
   "execution_count": 26,
   "id": "bdb38a90",
   "metadata": {},
   "outputs": [],
   "source": [
    "metadata = st.get_image_metadata_file()"
   ]
  },
  {
   "cell_type": "code",
   "execution_count": 29,
   "id": "8618af66",
   "metadata": {},
   "outputs": [
    {
     "data": {
      "text/plain": [
       "{22: 'BW/bw_39.png', 27: 'BW/bw_43.png', 16: 'BW/bw_33.png'}"
      ]
     },
     "execution_count": 29,
     "metadata": {},
     "output_type": "execute_result"
    }
   ],
   "source": [
    "st.get_similar_images(image_path='bwsample.png', number_of_images=3)"
   ]
  },
  {
   "cell_type": "code",
   "execution_count": 59,
   "id": "770845d3",
   "metadata": {},
   "outputs": [
    {
     "data": {
      "text/plain": [
       "{'Images\\\\0.png': 105.2716,\n",
       " 'Images\\\\10.png': 95.323875,\n",
       " 'Images\\\\12.png': 97.769975,\n",
       " 'Images\\\\14.png': 104.829575,\n",
       " 'Images\\\\16.png': 100.076675,\n",
       " 'Images\\\\18.png': 99.757675,\n",
       " 'Images\\\\2.png': 98.9607,\n",
       " 'Images\\\\20.png': 0.0,\n",
       " 'Images\\\\23.png': 106.916975,\n",
       " 'Images\\\\24.png': 102.415325,\n",
       " 'Images\\\\25.png': 106.9945,\n",
       " 'Images\\\\26.png': 101.204775,\n",
       " 'Images\\\\27.png': 103.210975,\n",
       " 'Images\\\\30.png': 101.548575,\n",
       " 'Images\\\\31.png': 105.0195,\n",
       " 'Images\\\\32.png': 101.31965,\n",
       " 'Images\\\\33.png': 101.534475,\n",
       " 'Images\\\\34.png': 100.12065,\n",
       " 'Images\\\\35.png': 101.918425,\n",
       " 'Images\\\\36.png': 104.610025,\n",
       " 'Images\\\\37.png': 104.024575,\n",
       " 'Images\\\\38.png': 101.727175,\n",
       " 'Images\\\\39.png': 105.305425,\n",
       " 'Images\\\\4.png': 99.102875,\n",
       " 'Images\\\\40.png': 101.73495,\n",
       " 'Images\\\\41.png': 107.3034,\n",
       " 'Images\\\\42.png': 101.89935,\n",
       " 'Images\\\\43.png': 106.76305,\n",
       " 'Images\\\\6.png': 99.13235,\n",
       " 'Images\\\\8.png': 98.69545}"
      ]
     },
     "execution_count": 59,
     "metadata": {},
     "output_type": "execute_result"
    }
   ],
   "source": [
    "score"
   ]
  },
  {
   "cell_type": "code",
   "execution_count": 20,
   "id": "d127d7f0",
   "metadata": {},
   "outputs": [
    {
     "name": "stdout",
     "output_type": "stream",
     "text": [
      "Images converted and saved!\n"
     ]
    }
   ],
   "source": [
    "from PIL import Image\n",
    "import os\n",
    "\n",
    "source_directory = \"Images/\"\n",
    "destination_directory = \"BW/\"\n",
    "\n",
    "if not os.path.exists(destination_directory):\n",
    "    os.makedirs(destination_directory)\n",
    "\n",
    "for filename in os.listdir(source_directory):\n",
    "    if filename.endswith(\".jpg\") or filename.endswith(\".png\"):\n",
    "        image_path = os.path.join(source_directory, filename)\n",
    "        img = Image.open(image_path)\n",
    "        bw_img = img.convert(\"L\")  # Convert to grayscale\n",
    "        new_filename = \"bw_\" + filename\n",
    "        new_image_path = os.path.join(destination_directory, new_filename)\n",
    "        bw_img.save(new_image_path)\n",
    "\n",
    "print(\"Images converted and saved!\")\n"
   ]
  },
  {
   "cell_type": "code",
   "execution_count": null,
   "id": "9523dfb1",
   "metadata": {},
   "outputs": [],
   "source": []
  }
 ],
 "metadata": {
  "kernelspec": {
   "display_name": "Python 3 (ipykernel)",
   "language": "python",
   "name": "python3"
  },
  "language_info": {
   "codemirror_mode": {
    "name": "ipython",
    "version": 3
   },
   "file_extension": ".py",
   "mimetype": "text/x-python",
   "name": "python",
   "nbconvert_exporter": "python",
   "pygments_lexer": "ipython3",
   "version": "3.10.10"
  }
 },
 "nbformat": 4,
 "nbformat_minor": 5
}
