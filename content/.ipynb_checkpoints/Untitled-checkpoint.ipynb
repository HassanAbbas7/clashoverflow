{
 "cells": [
  {
   "cell_type": "code",
   "execution_count": 26,
   "id": "31021a57",
   "metadata": {},
   "outputs": [],
   "source": [
    "from bs4 import BeautifulSoup as bs\n",
    "import requests\n",
    "from urllib.parse import urlsplit, urlunsplit\n",
    "import numpy as np\n",
    "import glob\n",
    "from PIL import Image"
   ]
  },
  {
   "cell_type": "code",
   "execution_count": 18,
   "id": "ebf150e5",
   "metadata": {},
   "outputs": [],
   "source": [
    "req = requests.get(\"https://cocbases.com/th13-base-link/\")"
   ]
  },
  {
   "cell_type": "code",
   "execution_count": 19,
   "id": "4c344413",
   "metadata": {},
   "outputs": [],
   "source": [
    "soup = bs(req.content)"
   ]
  },
  {
   "cell_type": "code",
   "execution_count": 20,
   "id": "125e2fe6",
   "metadata": {},
   "outputs": [],
   "source": [
    "for i, image in enumerate(soup.find_all(\"img\")):\n",
    "    link = image[\"src\"]\n",
    "    with open(f\"Images/{i+22}.png\", \"wb\") as pic:\n",
    "        pic.write(requests.get(link).content)"
   ]
  },
  {
   "cell_type": "code",
   "execution_count": 51,
   "id": "5978c497",
   "metadata": {},
   "outputs": [],
   "source": [
    "def compare_images(image1, image2):\n",
    "    # Load the images\n",
    "    img1 = Image.open(image1).convert('L')\n",
    "    img2 = Image.open(image2).convert('L')\n",
    "\n",
    "    # Resize the images if necessary\n",
    "    img1 = img1.resize((200, 200))\n",
    "    img2 = img2.resize((200, 200))\n",
    "\n",
    "    # Convert images to numpy arrays\n",
    "    arr1 = np.array(img1)\n",
    "    arr2 = np.array(img2)\n",
    "\n",
    "    # Calculate the MSE\n",
    "    mse = np.mean((arr1 - arr2) ** 2)\n",
    "\n",
    "    return mse"
   ]
  },
  {
   "cell_type": "code",
   "execution_count": 52,
   "id": "f933b5ff",
   "metadata": {},
   "outputs": [],
   "source": [
    "imageToCompare = Image.new(\"RGB\", (500, 500))\n",
    "score = {}\n",
    "for image in glob.glob(\"Images/*.png\"):\n",
    "    score[image] = compare_images(imageToCompare, image)"
   ]
  },
  {
   "cell_type": "code",
   "execution_count": 53,
   "id": "7d98dd75",
   "metadata": {},
   "outputs": [
    {
     "data": {
      "text/plain": [
       "'Images\\\\32.png'"
      ]
     },
     "execution_count": 53,
     "metadata": {},
     "output_type": "execute_result"
    }
   ],
   "source": [
    "min(score, key=score.get)"
   ]
  },
  {
   "cell_type": "code",
   "execution_count": 54,
   "id": "2ee766fe",
   "metadata": {},
   "outputs": [
    {
     "data": {
      "text/plain": [
       "{'Images\\\\0.png': 107.024775,\n",
       " 'Images\\\\10.png': 109.6978,\n",
       " 'Images\\\\12.png': 108.8831,\n",
       " 'Images\\\\14.png': 108.4445,\n",
       " 'Images\\\\16.png': 109.41635,\n",
       " 'Images\\\\18.png': 109.3876,\n",
       " 'Images\\\\2.png': 108.656025,\n",
       " 'Images\\\\20.png': 109.358975,\n",
       " 'Images\\\\23.png': 115.5565,\n",
       " 'Images\\\\24.png': 102.9028,\n",
       " 'Images\\\\25.png': 115.482475,\n",
       " 'Images\\\\26.png': 105.3465,\n",
       " 'Images\\\\27.png': 106.3785,\n",
       " 'Images\\\\30.png': 105.2264,\n",
       " 'Images\\\\31.png': 106.919075,\n",
       " 'Images\\\\32.png': 102.794375,\n",
       " 'Images\\\\33.png': 107.30205,\n",
       " 'Images\\\\34.png': 103.231625,\n",
       " 'Images\\\\35.png': 110.1797,\n",
       " 'Images\\\\36.png': 103.0463,\n",
       " 'Images\\\\37.png': 108.98035,\n",
       " 'Images\\\\38.png': 105.5571,\n",
       " 'Images\\\\39.png': 113.90455,\n",
       " 'Images\\\\4.png': 109.0928,\n",
       " 'Images\\\\40.png': 104.332825,\n",
       " 'Images\\\\41.png': 114.985325,\n",
       " 'Images\\\\42.png': 104.454025,\n",
       " 'Images\\\\43.png': 114.837075,\n",
       " 'Images\\\\6.png': 109.981825,\n",
       " 'Images\\\\8.png': 108.428025}"
      ]
     },
     "execution_count": 54,
     "metadata": {},
     "output_type": "execute_result"
    }
   ],
   "source": [
    "score"
   ]
  },
  {
   "cell_type": "code",
   "execution_count": null,
   "id": "8b1ee53b",
   "metadata": {},
   "outputs": [],
   "source": []
  }
 ],
 "metadata": {
  "kernelspec": {
   "display_name": "Python 3 (ipykernel)",
   "language": "python",
   "name": "python3"
  },
  "language_info": {
   "codemirror_mode": {
    "name": "ipython",
    "version": 3
   },
   "file_extension": ".py",
   "mimetype": "text/x-python",
   "name": "python",
   "nbconvert_exporter": "python",
   "pygments_lexer": "ipython3",
   "version": "3.10.10"
  }
 },
 "nbformat": 4,
 "nbformat_minor": 5
}
